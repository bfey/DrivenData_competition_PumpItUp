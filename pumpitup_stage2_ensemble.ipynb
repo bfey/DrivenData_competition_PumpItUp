{
 "cells": [
  {
   "cell_type": "code",
   "execution_count": 27,
   "metadata": {
    "collapsed": false
   },
   "outputs": [],
   "source": [
    "# Numpy for working with Arrays\n",
    "import numpy as np\n",
    "\n",
    "# Pandas for working with data tables\n",
    "import pandas as pd\n",
    "\n",
    "# SciPy implements many different numerical algorithms\n",
    "import scipy as sp\n",
    "import scipy.stats as stats\n",
    "from scipy import sparse\n",
    "from scipy.sparse import csr_matrix\n",
    "from scipy.sparse import hstack\n",
    "\n",
    "# Module for plotting\n",
    "import matplotlib\n",
    "import matplotlib.pyplot as plt\n",
    "%matplotlib inline\n",
    "from cycler import cycler\n",
    "\n",
    "# scikit learn packages\n",
    "from sklearn.ensemble import RandomForestClassifier, AdaBoostClassifier, VotingClassifier\n",
    "from sklearn.cross_validation import train_test_split\n",
    "from sklearn import metrics\n",
    "from sklearn.metrics import roc_curve, auc\n",
    "from sklearn import cross_validation\n",
    "from sklearn import preprocessing\n",
    "from sklearn.preprocessing import label_binarize\n",
    "from sklearn import linear_model\n",
    "from sklearn.linear_model import LogisticRegression\n",
    "from sklearn.discriminant_analysis import LinearDiscriminantAnalysis\n",
    "from sklearn.naive_bayes import MultinomialNB\n",
    "from sklearn.tree import DecisionTreeClassifier\n",
    "from sklearn.grid_search import GridSearchCV\n",
    "from sklearn.neighbors import KNeighborsClassifier\n"
   ]
  },
  {
   "cell_type": "code",
   "execution_count": 28,
   "metadata": {
    "collapsed": true
   },
   "outputs": [],
   "source": [
    "### load data from csv files\n",
    "water_values = pd.read_csv('./data/train_set_values.csv')\n",
    "water_labels = pd.read_csv('./data/train_set_labels.csv')\n",
    "\n",
    "# list categorical features to be turned into dummy variables:\n",
    "cat_features = ['id', 'region_code', 'district_code', 'basin', 'region', 'public_meeting', \\\n",
    "                'scheme_management', 'permit', 'extraction_type', 'extraction_type_class', \\\n",
    "                'management', 'water_quality', 'quantity', \\\n",
    "                'source', 'waterpoint_type', 'recorded_by', 'funder', 'installer', \\\n",
    "               'lga', 'ward', 'scheme_name', 'management_group', 'subvillage', 'wpt_name', \\\n",
    "               'payment_type', 'source_class', 'payment', 'extraction_type_group', 'quality_group', \\\n",
    "                'quantity_group', 'source_type', 'waterpoint_type_group']\n",
    "\n",
    "# list numeric features\n",
    "num_features = ['id', 'gps_height', 'longitude', 'latitude', 'amount_tsh', 'num_private', 'construction_year' \\\n",
    "                , 'population', 'date_recorded']\n",
    "\n",
    "# make dataframe of just the categorical features, use id as index\n",
    "water_cat = water_values.loc[:,cat_features].set_index('id')\n",
    "\n",
    "# make dataframe of just numeric (basically, the rest of the columns), use id as index\n",
    "water_num = water_values.loc[:,num_features].set_index('id')\n",
    "\n",
    "\n",
    "# prepare test data for model prediction\n",
    "test = pd.read_csv('./test_set_values.csv')\n",
    "\n",
    "# make dataframe of just the categorical features, use id as index\n",
    "test_cat = test.loc[:,cat_features].set_index('id')\n",
    "\n",
    "# make dataframe of just numeric (basically, the rest of the columns), use id as index\n",
    "test_num = test.loc[:,num_features].set_index('id')"
   ]
  },
  {
   "cell_type": "code",
   "execution_count": 29,
   "metadata": {
    "collapsed": false
   },
   "outputs": [],
   "source": [
    "# remove categorical values that occur fewer than threshold\n",
    "threshold = 2 # Anything that occurs less than this will be removed.\n",
    "for col in water_cat:\n",
    "    vc = water_cat[col].value_counts()\n",
    "    vals_to_remove = vc[vc < threshold].index.values\n",
    "    water_cat.loc[water_cat[col].isin(vals_to_remove), col] = None\n",
    "\n",
    "    \n",
    "# impute 'missing' for categorical NaNs \n",
    "for dataset in [water_cat, test_cat]:\n",
    "    for col in dataset:\n",
    "        idx = dataset.loc[:,col][dataset[col].isnull() == True].index\n",
    "        dataset.set_value(idx, col, 'missing')\n",
    "        idx = dataset.loc[:,col][dataset[col] == 0].index\n",
    "        dataset.set_value(idx, col, 'missing')\n",
    "\n",
    "\n",
    "imp_water = pd.read_csv('water_num_imputed.csv')\n",
    "imp_test = pd.read_csv('test_num_imputed.csv')\n",
    "\n",
    "for col in water_num:\n",
    "    if col in ['gps_height', 'longitude', 'latitude', 'construction_year']:\n",
    "        water_num.loc[water_num[col] == 0, col] = imp_water[col]\n",
    "\n",
    "for col in test_num:\n",
    "    if col in ['gps_height', 'longitude', 'latitude', 'construction_year']:\n",
    "        test_num.loc[test_num[col] == 0, col] = imp_test[col]\n",
    "        \n",
    "        \n",
    "\n",
    "# convert status labels to numeric\n",
    "water_labels['status_group'] = water_labels.status_group.factorize()[0]\n",
    "\n",
    "\n",
    "# replace 0s with NaN in columns where 0 likely doesn't mean 'zero'\n",
    "for dataset in [water_num, test_num]:\n",
    "    for col in ['population', 'construction_year','num_private', 'longitude']:\n",
    "        dataset[col].replace(0, np.nan, inplace = True)\n",
    "\n",
    "# removed: , 'amount_tsh', 'gps_height'\n",
    "\n",
    "# transform date to float\n",
    "for dataset in [water_num, test_num]:\n",
    "    dataset['date_recorded'] = pd.to_datetime(dataset['date_recorded'])\n",
    "    dataset['month'] = dataset['date_recorded'].dt.month\n",
    "    dataset['year'] = dataset['date_recorded'].dt.year\n",
    "    dataset['date_recorded'] = (dataset['date_recorded'] - dataset['date_recorded'].min())  / np.timedelta64(1,'D')\n",
    "\n",
    "\n",
    "# preprocessing steps\n",
    "\n",
    "# encode labels to floats\n",
    "le = preprocessing.LabelEncoder()\n",
    "\n",
    "# labels to floats, row by row (le doesn't work across df's)\n",
    "for col in water_cat:\n",
    "    le.fit(water_cat[col].append(test_cat[col]))\n",
    "    water_cat.loc[:,col] = le.transform(water_cat.loc[:,col])\n",
    "    test_cat.loc[:,col] = le.transform(test_cat.loc[:,col])\n",
    "\n",
    "# same for test:\n",
    "#for col in test_cat:\n",
    "#    encoded = le.transform(test_cat.loc[:,col])\n",
    "#    test_cat.loc[:,col] = encoded"
   ]
  },
  {
   "cell_type": "code",
   "execution_count": 30,
   "metadata": {
    "collapsed": false
   },
   "outputs": [],
   "source": [
    "# preprocessing steps\n",
    "\n",
    "# encode labels to floats\n",
    "le = preprocessing.LabelEncoder()\n",
    "\n",
    "# labels to floats, row by row (le doesn't work across entire df's)\n",
    "for col in water_cat:\n",
    "    le.fit(water_cat[col].append(test_cat[col]))\n",
    "    water_cat.loc[:,col] = le.transform(water_cat.loc[:,col])\n",
    "    test_cat.loc[:,col] = le.transform(test_cat.loc[:,col])\n",
    "\n",
    "# same for test:\n",
    "#for col in test_cat:\n",
    "#    encoded = le.transform(test_cat.loc[:,col])\n",
    "#    test_cat.loc[:,col] = encoded"
   ]
  },
  {
   "cell_type": "code",
   "execution_count": 31,
   "metadata": {
    "collapsed": false
   },
   "outputs": [
    {
     "name": "stdout",
     "output_type": "stream",
     "text": [
      "water_cat shape: (59400, 20702)\n",
      "test_cat shape: (14850, 20702)\n",
      "water_num shape: (59400L, 10L)\n",
      "test_num shape: (14850L, 10L)\n"
     ]
    }
   ],
   "source": [
    "# define one hot encoder (for dummy variables)\n",
    "enc = preprocessing.OneHotEncoder(handle_unknown = 'ignore')\n",
    "\n",
    "# make dummy variables\n",
    "water_cat = enc.fit_transform(water_cat)\n",
    "\n",
    "# fit test data to same dummies\n",
    "test_cat = enc.transform(test_cat)\n",
    "\n",
    "# impute data\n",
    "imp = preprocessing.Imputer(missing_values='NaN', strategy='most_frequent', axis=0, verbose=0, copy=True)\n",
    "water_num = imp.fit_transform(water_num)\n",
    "\n",
    "# transform test\n",
    "test_num = imp.transform(test_num)\n",
    "\n",
    "\n",
    "# standardize numeric variables\n",
    "minmax_scale = preprocessing.MinMaxScaler(feature_range=(0, 1), copy=True)\n",
    "water_num = minmax_scale.fit_transform(water_num)\n",
    "\n",
    "# transform test\n",
    "test_num = minmax_scale.transform(test_num)\n",
    "\n",
    "\n",
    "print 'water_cat shape: %s' % (str(water_cat.shape))\n",
    "print 'test_cat shape: %s' % (str(test_cat.shape))\n",
    "print 'water_num shape: %s' % (str(water_num.shape))\n",
    "print 'test_num shape: %s' % (str(test_num.shape))\n",
    "\n"
   ]
  },
  {
   "cell_type": "code",
   "execution_count": 32,
   "metadata": {
    "collapsed": false
   },
   "outputs": [],
   "source": [
    "# set to float32 (from float64) to conserve memory\n",
    "\n",
    "water_cat = sp.sparse.csr_matrix(water_cat, dtype = 'float32')\n",
    "test_cat = sp.sparse.csr_matrix(test_cat, dtype = 'float32')\n",
    "water_num = sp.sparse.csr_matrix(water_num, dtype = 'float32')\n",
    "test_num = sp.sparse.csr_matrix(test_num, dtype = 'float32')\n",
    "\n",
    "\n",
    "### prepare variables for model fitting\n",
    "\n",
    "# convert to sparse matrix\n",
    "water_num = csr_matrix(water_num)\n",
    "\n",
    "# concatenate \n",
    "X = hstack([water_num, water_cat])\n",
    "Xtest = hstack([test_num, test_cat]) # capital Xtest = real test set for submission\n",
    "\n",
    "# flatten label column into a 1-D array called y\n",
    "y = np.ravel(water_labels['status_group'])\n",
    "\n",
    "# split into training/test sets for crossval\n",
    "xtrain, xtest, ytrain, ytest = \\\n",
    "cross_validation.train_test_split(X, y, test_size=0.2, random_state=12345)\n",
    "\n",
    "### create DF to hold predictions for training ensemble\n",
    "ens_df = pd.DataFrame()\n",
    "\n",
    "### create DF to hold predictions for final test submission\n",
    "pred_df = pd.DataFrame()\n",
    "\n",
    "### prepare for ROC curves\n",
    "# binarize labels\n",
    "y_test = label_binarize(ytest, classes = [0,1,2])\n"
   ]
  },
  {
   "cell_type": "code",
   "execution_count": 8,
   "metadata": {
    "collapsed": true
   },
   "outputs": [],
   "source": [
    "#proba_df = pd.DataFrame()"
   ]
  },
  {
   "cell_type": "code",
   "execution_count": 9,
   "metadata": {
    "collapsed": true
   },
   "outputs": [],
   "source": [
    "##### Model building #####"
   ]
  },
  {
   "cell_type": "code",
   "execution_count": 33,
   "metadata": {
    "collapsed": false
   },
   "outputs": [
    {
     "name": "stdout",
     "output_type": "stream",
     "text": [
      "Logistic Regression test score: 0.788047\n"
     ]
    }
   ],
   "source": [
    "### Logistic Regression Classifier\n",
    "# instantiate a logistic regression model, and fit with train\n",
    "clf_lr = LogisticRegression(penalty = 'l1', C = 1)\n",
    "clf_lr = clf_lr.fit(xtrain, ytrain)\n",
    "print 'Logistic Regression test score: %f' % (clf_lr.score(xtest,ytest))\n",
    "\n",
    "# run prediction on test\n",
    "yhat_log_test = clf_lr.predict(xtest)\n",
    "\n",
    "# run probability prediction to df (for ROC)\n",
    "yhat_lr_proba_test = clf_lr.predict_proba(xtest)\n",
    "\n",
    "# add prediction to ensemble df\n",
    "ens_df['lr'] = yhat_log_test\n",
    "\n",
    "#0.787710"
   ]
  },
  {
   "cell_type": "code",
   "execution_count": 34,
   "metadata": {
    "collapsed": false
   },
   "outputs": [
    {
     "data": {
      "image/png": "[encoded data removed]",
      "text/plain": [
       "<matplotlib.figure.Figure at 0x3c3f1550>"
      ]
     },
     "metadata": {},
     "output_type": "display_data"
    }
   ],
   "source": [
    "### ROC curve\n",
    "# get number of classes\n",
    "n_classes = yhat_lr_proba_test[1]\n",
    "classes = ['functional', 'non-functional', 'needs repair']\n",
    "\n",
    "# create dicts to hold false positives, true positives, areas under curve\n",
    "fpr = dict()\n",
    "tpr = dict()\n",
    "roc_auc = dict()\n",
    "\n",
    "# calculate curves\n",
    "for i in range(len(n_classes)):\n",
    "    fpr[i], tpr[i], _ = roc_curve(y_test[:,i], yhat_lr_proba_test[:, i])\n",
    "    roc_auc[i] = auc(fpr[i], tpr[i])\n",
    "\n",
    "plt.figure(figsize=(7,5))\n",
    "\n",
    "# set colors\n",
    "plt.rc('axes', prop_cycle=(cycler('color', ['g', 'r', 'orange']) +\n",
    "                           cycler('linestyle', ['-', ':', '--'])))\n",
    "\n",
    "# build plot lines for each class\n",
    "for i in range(len(n_classes)):\n",
    "    plt.plot(fpr[i], tpr[i], label='Class \\'{0}\\' (area = {1:0.2f})'\n",
    "                                   ''.format(classes[i], roc_auc[i]))\n",
    "plt.plot([0, 1], [0, 1], 'k--') # dotted diagonal line\n",
    "plt.xlim([0.0, 1.0]) # axis limits\n",
    "plt.ylim([0.0, 1.0]) # axis limits\n",
    "plt.xlabel('False Positive Rate')\n",
    "plt.ylabel('True Positive Rate')\n",
    "plt.title('ROC Curves for Logistic Regression L1')\n",
    "plt.legend(loc=\"lower right\", frameon=False)\n",
    "plt.savefig('ROC_lr.pdf',bbox_inches='tight')"
   ]
  },
  {
   "cell_type": "code",
   "execution_count": 35,
   "metadata": {
    "collapsed": false
   },
   "outputs": [
    {
     "name": "stdout",
     "output_type": "stream",
     "text": [
      "Random Forest test score: 0.808670\n"
     ]
    }
   ],
   "source": [
    "### Random Forest Classifier\n",
    "# instantiate a ### Random Forest Classifiern model, and fit with train\n",
    "clf_rf = RandomForestClassifier(n_estimators=100)\n",
    "\n",
    "# fit model on training\n",
    "clf_rf.fit(xtrain, ytrain)\n",
    "\n",
    "print 'Random Forest test score: %f' % (clf_rf.score(xtest, ytest))\n",
    "\n",
    "# run prediction on test\n",
    "yhat_rf_test = clf_rf.predict(xtest)\n",
    "\n",
    "# run probability prediction to df (for ROC)\n",
    "yhat_rf_proba_test = clf_rf.predict_proba(xtest)\n",
    "\n",
    "# add prediction to ensemble df\n",
    "ens_df['rf'] = yhat_rf_test\n"
   ]
  },
  {
   "cell_type": "code",
   "execution_count": 36,
   "metadata": {
    "collapsed": false
   },
   "outputs": [
    {
     "data": {
      "image/png": "[encoded data removed]",
      "text/plain": [
       "<matplotlib.figure.Figure at 0x394075c0>"
      ]
     },
     "metadata": {},
     "output_type": "display_data"
    }
   ],
   "source": [
    "### ROC curve\n",
    "# get number of classes\n",
    "n_classes = yhat_rf_proba_test[1]\n",
    "classes = ['functional', 'non-functional', 'needs repair']\n",
    "\n",
    "# create dicts to hold false positives, true positives, areas under curve\n",
    "fpr = dict()\n",
    "tpr = dict()\n",
    "roc_auc = dict()\n",
    "\n",
    "# calculate curves\n",
    "for i in range(len(n_classes)):\n",
    "    fpr[i], tpr[i], _ = roc_curve(y_test[:,i], yhat_rf_proba_test[:, i])\n",
    "    roc_auc[i] = auc(fpr[i], tpr[i])\n",
    "\n",
    "plt.figure(figsize=(7,5))\n",
    "\n",
    "# set colors\n",
    "plt.rc('axes', prop_cycle=(cycler('color', ['g', 'r', 'orange']) +\n",
    "                           cycler('linestyle', ['-', ':', '--'])))\n",
    "\n",
    "# build plot lines for each class\n",
    "for i in range(len(n_classes)):\n",
    "    plt.plot(fpr[i], tpr[i], label='Class \\'{0}\\' (area = {1:0.2f})'\n",
    "                                   ''.format(classes[i], roc_auc[i]))\n",
    "plt.plot([0, 1], [0, 1], 'k--') # dotted diagonal line\n",
    "plt.xlim([0.0, 1.0]) # axis limits\n",
    "plt.ylim([0.0, 1.0]) # axis limits\n",
    "plt.xlabel('False Positive Rate')\n",
    "plt.ylabel('True Positive Rate')\n",
    "plt.title('ROC Curves for Random Forest')\n",
    "plt.legend(loc=\"lower right\", frameon=False)\n",
    "plt.savefig('ROC_rf.pdf',bbox_inches='tight')"
   ]
  },
  {
   "cell_type": "code",
   "execution_count": 37,
   "metadata": {
    "collapsed": false
   },
   "outputs": [
    {
     "name": "stdout",
     "output_type": "stream",
     "text": [
      "Decision Tree test score: 0.786785\n"
     ]
    }
   ],
   "source": [
    "### Decision Tree Classifier\n",
    "# define  classifier\n",
    "clf_dt = DecisionTreeClassifier(max_features = None, criterion = 'gini', min_samples_leaf = 1, max_leaf_nodes = 1000)\n",
    "# fit model on training\n",
    "clf_dt.fit(xtrain, ytrain)\n",
    "\n",
    "# check accuracy on test set\n",
    "print 'Decision Tree test score: %f' % (clf_dt.score(xtest, ytest))\n",
    "\n",
    "# run prediction on train\n",
    "yhat_dt_test = clf_dt.predict(xtest)\n",
    "\n",
    "# run probability prediction to df (for ROC)\n",
    "yhat_dt_proba_test = clf_dt.predict_proba(xtest)\n",
    "\n",
    "# add prediction to ensemble df\n",
    "ens_df['dt'] = yhat_dt_test\n",
    "\n",
    "#Decision Tree test score: 0.789226"
   ]
  },
  {
   "cell_type": "code",
   "execution_count": 38,
   "metadata": {
    "collapsed": false
   },
   "outputs": [
    {
     "data": {
      "image/png": "[encoded data removed]",
      "text/plain": [
       "<matplotlib.figure.Figure at 0x39427978>"
      ]
     },
     "metadata": {},
     "output_type": "display_data"
    }
   ],
   "source": [
    "### ROC curve\n",
    "# get number of classes\n",
    "n_classes = yhat_dt_proba_test[1]\n",
    "classes = ['functional', 'non-functional', 'needs repair']\n",
    "\n",
    "# create dicts to hold false positives, true positives, areas under curve\n",
    "fpr = dict()\n",
    "tpr = dict()\n",
    "roc_auc = dict()\n",
    "\n",
    "# calculate curves\n",
    "for i in range(len(n_classes)):\n",
    "    fpr[i], tpr[i], _ = roc_curve(y_test[:,i], yhat_dt_proba_test[:, i])\n",
    "    roc_auc[i] = auc(fpr[i], tpr[i])\n",
    "\n",
    "plt.figure(figsize=(7,5))\n",
    "\n",
    "# set colors\n",
    "plt.rc('axes', prop_cycle=(cycler('color', ['g', 'r', 'orange']) +\n",
    "                           cycler('linestyle', ['-', ':', '--'])))\n",
    "\n",
    "# build plot lines for each class\n",
    "for i in range(len(n_classes)):\n",
    "    plt.plot(fpr[i], tpr[i], label='Class \\'{0}\\' (area = {1:0.2f})'\n",
    "                                   ''.format(classes[i], roc_auc[i]))\n",
    "plt.plot([0, 1], [0, 1], 'k--') # dotted diagonal line\n",
    "plt.xlim([0.0, 1.0]) # axis limits\n",
    "plt.ylim([0.0, 1.0]) # axis limits\n",
    "plt.xlabel('False Positive Rate')\n",
    "plt.ylabel('True Positive Rate')\n",
    "plt.title('ROC Curves for Decision Tree Classifier')\n",
    "plt.legend(loc=\"lower right\", frameon=False)\n",
    "\n",
    "plt.savefig('ROC_dt.pdf',bbox_inches='tight')"
   ]
  },
  {
   "cell_type": "code",
   "execution_count": 25,
   "metadata": {
    "collapsed": false
   },
   "outputs": [
    {
     "data": {
      "text/html": [
       "<div>\n",
       "<table border=\"1\" class=\"dataframe\">\n",
       "  <thead>\n",
       "    <tr style=\"text-align: right;\">\n",
       "      <th></th>\n",
       "      <th>lr</th>\n",
       "      <th>rf</th>\n",
       "      <th>dt</th>\n",
       "    </tr>\n",
       "  </thead>\n",
       "  <tbody>\n",
       "    <tr>\n",
       "      <th>lr</th>\n",
       "      <td>1.000000</td>\n",
       "      <td>0.689163</td>\n",
       "      <td>0.674919</td>\n",
       "    </tr>\n",
       "    <tr>\n",
       "      <th>rf</th>\n",
       "      <td>0.689163</td>\n",
       "      <td>1.000000</td>\n",
       "      <td>0.680131</td>\n",
       "    </tr>\n",
       "    <tr>\n",
       "      <th>dt</th>\n",
       "      <td>0.674919</td>\n",
       "      <td>0.680131</td>\n",
       "      <td>1.000000</td>\n",
       "    </tr>\n",
       "  </tbody>\n",
       "</table>\n",
       "</div>"
      ],
      "text/plain": [
       "          lr        rf        dt\n",
       "lr  1.000000  0.689163  0.674919\n",
       "rf  0.689163  1.000000  0.680131\n",
       "dt  0.674919  0.680131  1.000000"
      ]
     },
     "execution_count": 25,
     "metadata": {},
     "output_type": "execute_result"
    }
   ],
   "source": [
    "# check correlation of ensemble inputs\n",
    "ens_df.apply(lambda s: ens_df.corrwith(s))"
   ]
  },
  {
   "cell_type": "code",
   "execution_count": 16,
   "metadata": {
    "collapsed": false
   },
   "outputs": [
    {
     "data": {
      "text/plain": [
       "array([ 0.79722922,  0.77749684,  0.81795196])"
      ]
     },
     "execution_count": 16,
     "metadata": {},
     "output_type": "execute_result"
    }
   ],
   "source": [
    "### Adaboost ensemble classifier\n",
    "\n",
    "# convert dataframe to array\n",
    "ens_array = ens_df.as_matrix()\n",
    "\n",
    "# split ens_array into training/test sets for ada crossval\n",
    "x_ens_train, x_ens_test, y_ens_train, y_ens_test = \\\n",
    "cross_validation.train_test_split(ens_array, ytest, test_size=0.2, random_state=12345)\n",
    "\n",
    "# define model\n",
    "\n",
    "ada = AdaBoostClassifier(DecisionTreeClassifier(max_features = None, criterion = 'gini'))\n",
    "\n",
    "# fit adaboost\n",
    "ada.fit(x_ens_train, y_ens_train)\n",
    "\n",
    "scores = cross_validation.cross_val_score(ada,\n",
    "        x_ens_test, y_ens_test)\n",
    "\n",
    "# run probability prediction to df (for ROC)\n",
    "yhat_ada_proba_test = ada.predict_proba(x_ens_test)\n",
    "\n",
    "# here's what we do: train LR, RF, DT on train. predict on test set. train adaboost on test predictions. then train LR, RF, DT on full. \n",
    "# predict on TEST w/ all 3. predict adaboost on TEST\n",
    "\n",
    "scores"
   ]
  },
  {
   "cell_type": "code",
   "execution_count": 18,
   "metadata": {
    "collapsed": false
   },
   "outputs": [
    {
     "data": {
      "text/plain": [
       "0.79755933937739965"
      ]
     },
     "execution_count": 18,
     "metadata": {},
     "output_type": "execute_result"
    }
   ],
   "source": [
    "scores.mean()\n",
    "### where we've left it: 4 classifiers trained, ada ensemb = 80.2. Worth doing full dataset train below?"
   ]
  },
  {
   "cell_type": "code",
   "execution_count": 17,
   "metadata": {
    "collapsed": false
   },
   "outputs": [
    {
     "data": {
      "image/png": "[encoded data removed]",
      "text/plain": [
       "<matplotlib.figure.Figure at 0x391fdf60>"
      ]
     },
     "metadata": {},
     "output_type": "display_data"
    }
   ],
   "source": [
    "### ROC curve -- ensemble\n",
    "# get number of classes\n",
    "\n",
    "# re-binarize label for ensemble\n",
    "y_test = label_binarize(y_ens_test, classes = [0,1,2])\n",
    "\n",
    "n_classes = yhat_ada_proba_test[1]\n",
    "classes = ['functional', 'non-functional', 'needs repair']\n",
    "\n",
    "# create dicts to hold false positives, true positives, areas under curve\n",
    "fpr = dict()\n",
    "tpr = dict()\n",
    "roc_auc = dict()\n",
    "\n",
    "# calculate curves\n",
    "for i in range(len(n_classes)):\n",
    "    fpr[i], tpr[i], _ = roc_curve(y_test[:,i], yhat_ada_proba_test[:, i])\n",
    "    roc_auc[i] = auc(fpr[i], tpr[i])\n",
    "\n",
    "plt.figure(figsize=(7,5))\n",
    "\n",
    "# set colors\n",
    "plt.rc('axes', prop_cycle=(cycler('color', ['g', 'r', 'orange']) +\n",
    "                           cycler('linestyle', ['-', ':', '--'])))\n",
    "\n",
    "# build plot lines for each class\n",
    "for i in range(len(n_classes)):\n",
    "    plt.plot(fpr[i], tpr[i], label='Class \\'{0}\\' (area = {1:0.2f})'\n",
    "                                   ''.format(classes[i], roc_auc[i]))\n",
    "plt.plot([0, 1], [0, 1], 'k--') # dotted diagonal line\n",
    "plt.xlim([0.0, 1.0]) # axis limits\n",
    "plt.ylim([0.0, 1.0]) # axis limits\n",
    "plt.xlabel('False Positive Rate')\n",
    "plt.ylabel('True Positive Rate')\n",
    "plt.title('ROC Curves for Adaboost Ensemble')\n",
    "plt.legend(loc=\"lower right\", frameon=False)\n",
    "\n",
    "plt.savefig('ROC_ada.png',bbox_inches='tight')"
   ]
  },
  {
   "cell_type": "code",
   "execution_count": 19,
   "metadata": {
    "collapsed": true
   },
   "outputs": [],
   "source": [
    "# train LR model on full dataset\n",
    "clf_lr = clf_lr.fit(X, y)\n",
    "\n",
    "# run prediction on FINAL TEST data\n",
    "yhat_log_pred = clf_lr.predict(Xtest)\n",
    "\n",
    "# add prediction to ensemble df\n",
    "pred_df['lr'] = yhat_log_pred\n",
    "\n",
    "# fit RF model on full dataset\n",
    "clf_rf.fit(X, y)\n",
    "\n",
    "# run prediction on FINAL TEST data\n",
    "yhat_rf_pred = clf_rf.predict(Xtest)\n",
    "\n",
    "# add prediction to ensemble df\n",
    "pred_df['rf'] = yhat_rf_pred\n",
    "\n",
    "# fit DT model on full dataset\n",
    "clf_dt.fit(X, y)\n",
    "\n",
    "# run prediction on FINAL TEST data\n",
    "yhat_dt_pred = clf_dt.predict(Xtest)\n",
    "\n",
    "# add prediction to ensemble df\n",
    "pred_df['dt'] = yhat_dt_pred"
   ]
  },
  {
   "cell_type": "code",
   "execution_count": 20,
   "metadata": {
    "collapsed": true
   },
   "outputs": [],
   "source": [
    "# convert dataframe to array\n",
    "pred_array = pred_df.as_matrix()\n",
    "\n",
    "### Adaboost Ensemble: FINAL predictions\n",
    "\n",
    "# fit adaboost on full training set (earlier was only on training split of test set)\n",
    "ada.fit(ens_array, ytest)\n",
    "\n",
    "predictions = ada.predict(pred_array)"
   ]
  },
  {
   "cell_type": "code",
   "execution_count": 24,
   "metadata": {
    "collapsed": false
   },
   "outputs": [],
   "source": [
    "# create submission\n",
    "\n",
    "test['status_group'] = predictions\n",
    "\n",
    "map_dict = {0: 'functional', 1: 'non functional', 2: 'functional needs repair'}\n",
    "test['status_group'] = test['status_group'].map(map_dict)\n",
    "test_submit = test[['id', 'status_group']]\n",
    "test_submit.to_csv('submit_lr_fr_dt__ada_20160528b_impute_cleanencode_thresh2.csv', index = False)"
   ]
  },
  {
   "cell_type": "code",
   "execution_count": null,
   "metadata": {
    "collapsed": true
   },
   "outputs": [],
   "source": [
    "#### code pieces that were used along the way, but not a part of ensemble prediction"
   ]
  },
  {
   "cell_type": "code",
   "execution_count": 18,
   "metadata": {
    "collapsed": false
   },
   "outputs": [
    {
     "name": "stdout",
     "output_type": "stream",
     "text": [
      "KNN test score: 0.780976\n"
     ]
    }
   ],
   "source": [
    "### K-Nearest Neighbors Classifier\n",
    "\n",
    "# define  classifier\n",
    "clf_kn = KNeighborsClassifier(n_neighbors=5)\n",
    "# fit model on training\n",
    "clf_kn.fit(xtrain, ytrain)\n",
    "\n",
    "# check accuracy on test set\n",
    "print 'KNN test score: %f' % (clf_kn.score(xtest, ytest))\n",
    "\n",
    "# run prediction on train\n",
    "yhat_kn_test = clf_kn.predict(xtest)\n",
    "\n",
    "# add prediction to ensemble df\n",
    "ens_df['kn'] = yhat_kn_test"
   ]
  },
  {
   "cell_type": "code",
   "execution_count": null,
   "metadata": {
    "collapsed": true
   },
   "outputs": [],
   "source": [
    "### Logistic Regression Classifier - l2\n",
    "# instantiate a logistic regression model, and fit with train\n",
    "clf_lr2 = LogisticRegression(penalty = 'l2', C = .3)\n",
    "clf_lr2 = clf_lr2.fit(xtrain, ytrain)\n",
    "print 'Logistic Regression l2 test score: %f' % (clf_lr2.score(xtest,ytest))\n",
    "\n",
    "# run prediction on test\n",
    "yhat_log2_test = clf_lr2.predict(xtest)\n",
    "\n",
    "# add prediction to ensemble df\n",
    "ens_df['lr2'] = yhat_log2_test"
   ]
  },
  {
   "cell_type": "code",
   "execution_count": 8,
   "metadata": {
    "collapsed": false
   },
   "outputs": [
    {
     "name": "stdout",
     "output_type": "stream",
     "text": [
      "Adaboost test score: 0.807155\n"
     ]
    }
   ],
   "source": [
    "### Adaboost classifier\n",
    "\n",
    "# define  classifier\n",
    "clf_ada = AdaBoostClassifier(RandomForestClassifier(n_estimators=50))\n",
    "# fit model on training\n",
    "clf_ada.fit(xtrain, ytrain)\n",
    "# check accuracy on test set\n",
    "print 'Adaboost test score: %f' % (clf_ada.score(xtest, ytest))\n",
    "\n",
    "# run prediction on train\n",
    "yhat_ada_test = clf_ada.predict(xtest)\n",
    "\n",
    "# add prediction to ensemble df\n",
    "ens_df['ada'] = yhat_ada_test\n",
    "\n",
    "### In the AM, check this score!!! ##### was .810943"
   ]
  },
  {
   "cell_type": "code",
   "execution_count": 7,
   "metadata": {
    "collapsed": false
   },
   "outputs": [
    {
     "name": "stdout",
     "output_type": "stream",
     "text": [
      "Naive Bayes test score: 0.720370\n"
     ]
    }
   ],
   "source": [
    "### Naive Bayes\n",
    "\n",
    "# define  classifier\n",
    "clf_nb = MultinomialNB(alpha = 3, fit_prior = True)\n",
    "# fit model on training\n",
    "clf_nb.fit(xtrain, ytrain)\n",
    "# check accuracy on test set\n",
    "print 'Naive Bayes test score: %f' % (clf_nb.score(xtest, ytest))\n",
    "\n",
    "# run prediction on train\n",
    "yhat_nb_test = clf_nb.predict(xtest)\n",
    "\n",
    "# add prediction to ensemble df\n",
    "ens_df['nb'] = yhat_nb_test"
   ]
  },
  {
   "cell_type": "code",
   "execution_count": null,
   "metadata": {
    "collapsed": false
   },
   "outputs": [],
   "source": [
    "### Grid Search to optimize parameters for KNN Classifier\n",
    "# prepare a range of values to test\n",
    "X_dense = X.toarray()\n",
    "n_neighbors = [4,5,6]    \n",
    "weights = ['uniform', 'distance']\n",
    "p  = [1,2]\n",
    "\n",
    "# create and fit a ridge regression model, testing each alpha\n",
    "model = KNeighborsClassifier()\n",
    "grid = GridSearchCV(estimator=model, param_grid=[dict(n_neighbors=n_neighbors), dict(weights = weights),\\\n",
    "                                                 dict(p = p)])\n",
    "grid.fit(X_dense, y)\n",
    "print(grid)\n",
    "# summarize the results of the grid search\n",
    "print(grid.best_score_)\n",
    "print(grid.best_estimator_.n_neighbors)\n",
    "print(grid.best_estimator_.weights)\n",
    "print(grid.best_estimator_.p)\n"
   ]
  },
  {
   "cell_type": "code",
   "execution_count": 6,
   "metadata": {
    "collapsed": false
   },
   "outputs": [
    {
     "name": "stdout",
     "output_type": "stream",
     "text": [
      "GridSearchCV(cv=None, error_score='raise',\n",
      "       estimator=LogisticRegression(C=1.0, class_weight=None, dual=False, fit_intercept=True,\n",
      "          intercept_scaling=1, max_iter=100, multi_class='ovr', n_jobs=1,\n",
      "          penalty='l2', random_state=None, solver='liblinear', tol=0.0001,\n",
      "          verbose=0, warm_start=False),\n",
      "       fit_params={}, iid=True, n_jobs=1,\n",
      "       param_grid=[{'C': array([ 1. ,  0.9,  0.8,  0.7,  0.5,  0.3,  0.1])}, {'penalty': ['l1', 'l2']}],\n",
      "       pre_dispatch='2*n_jobs', refit=True, scoring=None, verbose=0)\n",
      "0.788888888889\n",
      "0.7\n",
      "l2\n"
     ]
    }
   ],
   "source": [
    "'''### Grid Search to optimize parameters for LogReg\n",
    "# prepare a range of alpha values to test\n",
    "C = np.array([1, .9, .8, .7, .5, .3, .1])\n",
    "penalty = ['l1', 'l2']\n",
    "# create and fit a ridge regression model, testing each alpha\n",
    "model = LogisticRegression()\n",
    "grid = GridSearchCV(estimator=model, param_grid=[dict(C=C), dict(penalty = penalty)])\n",
    "grid.fit(X, y)\n",
    "print(grid)\n",
    "# summarize the results of the grid search\n",
    "print(grid.best_score_)\n",
    "print(grid.best_estimator_.C)\n",
    "print(grid.best_estimator_.penalty)\n",
    "\n",
    "### best score: 0.788787878788\n",
    "### best C: 1\n",
    "### best penalty: l1\n",
    "\n",
    "'''"
   ]
  },
  {
   "cell_type": "code",
   "execution_count": null,
   "metadata": {
    "collapsed": false
   },
   "outputs": [],
   "source": [
    "'''\n",
    "### Grid Search to optimize parameters for RandForest\n",
    "# prepare a range of alpha values to test\n",
    "n_estimators = np.array([100, 200, 300])\n",
    "criterion = ['gini']                         \n",
    "\n",
    "# create and fit a ridge regression model, testing each alpha\n",
    "model = RandomForestClassifier()\n",
    "grid = GridSearchCV(estimator=model, param_grid=[dict(n_estimators=n_estimators), dict(criterion = criterion)])\n",
    "grid.fit(X, y)\n",
    "print(grid)\n",
    "# summarize the results of the grid search\n",
    "print(grid.best_score_)\n",
    "print(grid.best_estimator_.n_estimators)\n",
    "print(grid.best_estimator_.criterion)\n",
    "\n",
    "### best score: 0.800505050505\n",
    "### best n_estimators: 300\n",
    "### best criterion: gini\n",
    "'''"
   ]
  },
  {
   "cell_type": "code",
   "execution_count": 8,
   "metadata": {
    "collapsed": false
   },
   "outputs": [
    {
     "name": "stdout",
     "output_type": "stream",
     "text": [
      "GridSearchCV(cv=None, error_score='raise',\n",
      "       estimator=DecisionTreeClassifier(class_weight=None, criterion='gini', max_depth=None,\n",
      "            max_features=None, max_leaf_nodes=None, min_samples_leaf=1,\n",
      "            min_samples_split=2, min_weight_fraction_leaf=0.0,\n",
      "            presort=False, random_state=None, splitter='best'),\n",
      "       fit_params={}, iid=True, n_jobs=1,\n",
      "       param_grid=[{'criterion': ['gini', 'entropy']}, {'max_features': ['sqrt', 'log2', None]}, {'min_samples_leaf': array([1, 3, 5])}, {'max_leaf_nodes': [None, 1000, 100]}],\n",
      "       pre_dispatch='2*n_jobs', refit=True, scoring=None, verbose=0)\n",
      "0.780454545455\n",
      "None\n",
      "gini\n",
      "1\n",
      "1000\n",
      "None\n"
     ]
    }
   ],
   "source": [
    "'''\n",
    "### Grid Search to optimize parameters for Decision Tree Classifier\n",
    "# prepare a range of values to test\n",
    "criterion = ['gini', 'entropy']    \n",
    "max_features = ['sqrt', 'log2', None]\n",
    "max_depth  = [2,3,4,None]\n",
    "min_samples_leaf = np.array([1,3,5])\n",
    "max_leaf_nodes = [None, 1000, 100]\n",
    "\n",
    "# create and fit a ridge regression model, testing each alpha\n",
    "model = DecisionTreeClassifier()\n",
    "grid = GridSearchCV(estimator=model, param_grid=[dict(criterion=criterion), dict(max_features = max_features),\\\n",
    "                                                 dict(min_samples_leaf = min_samples_leaf), \\\n",
    "                                                 dict(max_leaf_nodes = max_leaf_nodes)])\n",
    "grid.fit(X, y)\n",
    "print(grid)\n",
    "# summarize the results of the grid search\n",
    "print(grid.best_score_)\n",
    "print(grid.best_estimator_.max_features)\n",
    "print(grid.best_estimator_.criterion)\n",
    "print(grid.best_estimator_.min_samples_leaf)\n",
    "print(grid.best_estimator_.max_leaf_nodes)\n",
    "print(grid.best_estimator_.max_depth)\n",
    "\n",
    "\n",
    "### best score: 0.780622895623\n",
    "### best max_features: None\n",
    "### best criterion: gini\n",
    "### best min_samples_leaf: 1\n",
    "### best max_leaf_nodes: 1000\n",
    "### best max_depth: None\n",
    "'''"
   ]
  },
  {
   "cell_type": "code",
   "execution_count": null,
   "metadata": {
    "collapsed": true
   },
   "outputs": [],
   "source": [
    "'''### Grid Search to optimize parameters for Ensemble AdaBoost Classifier\n",
    "# prepare a range of values to test\n",
    "base_estimator = [DecisionTreeClassifier(max_features = None, criterion = 'gini', min_samples_leaf = 1, max_leaf_nodes = 1000),\\\n",
    "                  RandomForestClassifier(n_estimators = 100)]    \n",
    "n_estimators = [25,50,100]\n",
    "learning_rate   = [.75, 1, 1.25]\n",
    "\n",
    "\n",
    "# create and fit a ridge regression model, testing each alpha\n",
    "model = DecisionTreeClassifier()\n",
    "grid = GridSearchCV(estimator=model, param_grid=[dict(base_estimator=base_estimator), dict(n_estimators = n_estimators),\\\n",
    "                                                 dict(learning_rate = learning_rate), \\\n",
    "                                                 dict(max_leaf_nodes = max_leaf_nodes)])\n",
    "grid.fit(X_ens, y)\n",
    "print(grid)\n",
    "# summarize the results of the grid search\n",
    "print(grid.best_score_)\n",
    "print(grid.best_estimator_.base_estimator)\n",
    "print(grid.best_estimator_.n_estimators)\n",
    "print(grid.best_estimator_.learning_rate)\n",
    "'''"
   ]
  },
  {
   "cell_type": "code",
   "execution_count": null,
   "metadata": {
    "collapsed": false
   },
   "outputs": [],
   "source": [
    "### Ensemble Voting Classifier\n",
    "ens_vote = VotingClassifier([ ('rf', clf_rf), ('lr', clf_lr), ('kn', clf_kn)], voting='soft', weights=[1,1,1])\n",
    "ens_vote.fit(xtrain, ytrain)\n"
   ]
  },
  {
   "cell_type": "code",
   "execution_count": 22,
   "metadata": {
    "collapsed": false
   },
   "outputs": [
    {
     "name": "stdout",
     "output_type": "stream",
     "text": [
      "[ 0.80201765  0.8030303   0.77623262]\n",
      "0.793760191483\n"
     ]
    }
   ],
   "source": [
    "scores = cross_validation.cross_val_score(ens_vote,\n",
    "        x_ens_test, y_ens_test)\n",
    "print scores\n",
    "print scores.mean()"
   ]
  },
  {
   "cell_type": "code",
   "execution_count": 19,
   "metadata": {
    "collapsed": false
   },
   "outputs": [],
   "source": [
    "### Log Regression ensemble classifier\n",
    "\n",
    "ens_lr = LogisticRegression(penalty = 'l2', C = 1)\n",
    "ens_lr.fit(x_ens_train, y_ens_train)\n",
    "\n",
    "scores = cross_validation.cross_val_score(ens_lr,\n",
    "        x_ens_test, y_ens_test)"
   ]
  },
  {
   "cell_type": "code",
   "execution_count": 76,
   "metadata": {
    "collapsed": true
   },
   "outputs": [],
   "source": [
    "### Ensemble Voting Classifier: FINAL predictions\n",
    "ens_vote = VotingClassifier([ ('rf', clf_rf), ('lr2', clf_lr2), ('ada', clf_ada), ('nb', clf_nb),('kn', clf_kn), ('lr', clf_lr), \\\n",
    "                             ('dt', clf_dt)], voting='soft', weights=[4,2,1,1,2,2,2])\n",
    "ens_vote.fit(X, y)\n",
    "predictions_vote = ens_vote.predict(Xtest)\n"
   ]
  },
  {
   "cell_type": "code",
   "execution_count": 69,
   "metadata": {
    "collapsed": true
   },
   "outputs": [],
   "source": [
    "# fit model on full dataset\n",
    "clf_kn.fit(X, y)\n",
    "\n",
    "\n",
    "# run prediction on FINAL TEST data\n",
    "yhat_kn_pred = clf_kn.predict(Xtest)\n",
    "\n",
    "# add prediction to ensemble df\n",
    "pred_df['kn'] = yhat_kn_pred"
   ]
  },
  {
   "cell_type": "code",
   "execution_count": 70,
   "metadata": {
    "collapsed": true
   },
   "outputs": [],
   "source": [
    "# fit model on full dataset\n",
    "clf_lr2.fit(X, y)\n",
    "\n",
    "\n",
    "# run prediction on FINAL TEST data\n",
    "yhat_lr2_pred = clf_lr2.predict(Xtest)\n",
    "\n",
    "# add prediction to ensemble df\n",
    "pred_df['lr2'] = yhat_lr2_pred"
   ]
  },
  {
   "cell_type": "code",
   "execution_count": 71,
   "metadata": {
    "collapsed": true
   },
   "outputs": [],
   "source": [
    "# fit model on full dataset\n",
    "clf_nb.fit(X, y)\n",
    "\n",
    "\n",
    "# run prediction on FINAL TEST data\n",
    "yhat_nb_pred = clf_nb.predict(Xtest)\n",
    "\n",
    "# add prediction to ensemble df\n",
    "pred_df['nb'] = yhat_nb_pred"
   ]
  },
  {
   "cell_type": "code",
   "execution_count": 72,
   "metadata": {
    "collapsed": true
   },
   "outputs": [],
   "source": [
    "# fit model on full dataset\n",
    "clf_ada.fit(X, y)\n",
    "\n",
    "\n",
    "# run prediction on FINAL TEST data\n",
    "yhat_ada_pred = clf_ada.predict(Xtest)\n",
    "\n",
    "# add prediction to ensemble df\n",
    "pred_df['ada'] = yhat_ada_pred"
   ]
  },
  {
   "cell_type": "code",
   "execution_count": 34,
   "metadata": {
    "collapsed": true
   },
   "outputs": [],
   "source": [
    "# run prediction on full training set X\n",
    "yhat_train = clf_rf.predict(xtest)\n",
    "#yhat_test = clf_rf.predict(Xtest)\n",
    "\n",
    "# add prediction to ensemble df\n",
    "ens_df['rf'] = yhat_train\n",
    "#pred_df['rf'] = yhat_test\n",
    "#TEST_df['rf'] = yhat_test"
   ]
  },
  {
   "cell_type": "code",
   "execution_count": null,
   "metadata": {
    "collapsed": false
   },
   "outputs": [],
   "source": [
    "'''\n",
    "### Grid Search to optimize parameters for AdaBoost Classifier\n",
    "# prepare a range of values to test\n",
    "base_estimator = [DecisionTreeClassifier(max_features = None, criterion = 'gini', min_samples_leaf = 1, max_leaf_nodes = 1000)]    \n",
    "n_estimators = [25,50,100]\n",
    "learning_rate   = [.75, 1, 1.25]\n",
    "\n",
    "\n",
    "# create and fit a ridge regression model, testing each alpha\n",
    "model = AdaBoostClassifier()\n",
    "grid = GridSearchCV(estimator=model, param_grid=[dict(base_estimator=base_estimator), dict(n_estimators = n_estimators),\\\n",
    "                                                 dict(learning_rate = learning_rate)])\n",
    "grid.fit(X, y)\n",
    "print(grid)\n",
    "# summarize the results of the grid search\n",
    "print(grid.best_score_)\n",
    "print(grid.best_estimator_.n_estimators)\n",
    "print(grid.best_estimator_.learning_rate)\n",
    "'''\n"
   ]
  },
  {
   "cell_type": "code",
   "execution_count": null,
   "metadata": {
    "collapsed": true
   },
   "outputs": [],
   "source": [
    "'''\n",
    "### Grid Search to optimize parameters for Support Vector Classification\n",
    "# prepare a range of alpha values to test\n",
    "C = np.array([1, .75, .5, .25, .1])\n",
    "kernel  = ['rbf', 'linear', 'poly']\n",
    "# create and fit a ridge regression model, testing each alpha\n",
    "model = svm.SVC()\n",
    "grid = GridSearchCV(estimator=model, param_grid=[dict(C=C), dict(kernel = kernel)])\n",
    "grid.fit(X, y)\n",
    "print(grid)\n",
    "# summarize the results of the grid search\n",
    "print(grid.best_score_)\n",
    "print(grid.best_estimator_.C)\n",
    "print(grid.best_estimator_.kernel)\n",
    "\n",
    "# best score = 0.77164983165\n",
    "# best C = 1.0\n",
    "# best kernel = linear\n",
    "'''"
   ]
  },
  {
   "cell_type": "code",
   "execution_count": 7,
   "metadata": {
    "collapsed": false
   },
   "outputs": [
    {
     "data": {
      "text/plain": [
       "0.78518518518518521"
      ]
     },
     "execution_count": 7,
     "metadata": {},
     "output_type": "execute_result"
    }
   ],
   "source": [
    "### support vector machine\n",
    "clf_svm = svm.SVC(C=1.0, kernel = 'linear')\n",
    "clf_svm.fit(xtrain, ytrain)\n",
    "\n",
    "# test accuracy on test\n",
    "clf_svm.score(xtest, ytest)"
   ]
  },
  {
   "cell_type": "code",
   "execution_count": null,
   "metadata": {
    "collapsed": true
   },
   "outputs": [],
   "source": [
    "# run prediction on full training set X\n",
    "yhat_train = clf_svm.predict(X)\n",
    "yhat_test = clf_svm.predict(Xtest)\n",
    "\n",
    "# add prediction to ensemble df\n",
    "ens_df['svm'] = yhat_train\n",
    "pred_df['svm'] = yhat_test"
   ]
  },
  {
   "cell_type": "code",
   "execution_count": null,
   "metadata": {
    "collapsed": true
   },
   "outputs": [],
   "source": [
    "'''### Grid Search to optimize parameters for Naive Bayes\n",
    "# prepare a range of alpha values to test\n",
    "alpha = np.array([1, 3, 5, 10])\n",
    "fit_prior   = [True, False]\n",
    "# create and fit a ridge regression model, testing each alpha\n",
    "model = MultinomialNB()\n",
    "grid = GridSearchCV(estimator=model, param_grid=[dict(alpha = alpha), dict(fit_prior = fit_prior)])\n",
    "grid.fit(water_cat, y)\n",
    "print(grid)\n",
    "# summarize the results of the grid search\n",
    "print(grid.best_score_)\n",
    "print(grid.best_estimator_.C)\n",
    "print(grid.best_estimator_.penalty)\n",
    "\n",
    "# best score = 0.719023569024\n",
    "# best alpha = 3\n",
    "# best fit_prior = True\n",
    "'''"
   ]
  },
  {
   "cell_type": "code",
   "execution_count": null,
   "metadata": {
    "collapsed": false
   },
   "outputs": [],
   "source": [
    "# run prediction on full training set X\n",
    "yhat_train = clf_nb.predict(water_cat)\n",
    "yhat_test = clf_nb.predict(test_cat)\n",
    "\n",
    "# add prediction to ensemble df\n",
    "ens_df['nb'] = yhat_train\n",
    "pred_df['nb'] = yhat_test"
   ]
  },
  {
   "cell_type": "code",
   "execution_count": null,
   "metadata": {
    "collapsed": true
   },
   "outputs": [],
   "source": [
    "# save ensemble vectors to file\n",
    "ens_df.to_csv('ens_df.csv', index = False)\n",
    "pred_df.to_csv('pred_df.csv', index = False)"
   ]
  },
  {
   "cell_type": "code",
   "execution_count": null,
   "metadata": {
    "collapsed": false
   },
   "outputs": [],
   "source": [
    "# Voting\n",
    "VotingClassifier(estimators=[('lr', model_l1), ('rf', clf_rf), ('dt', clf_dt)], voting='hard')\n",
    "VotingClassifier.fit(X,y)\n",
    "VotingClassifier.predict(X)"
   ]
  },
  {
   "cell_type": "code",
   "execution_count": null,
   "metadata": {
    "collapsed": false
   },
   "outputs": [],
   "source": [
    "## ensemble adaboost\n",
    "ada_ens = AdaBoostClassifier()\n",
    "\n",
    "# fit adaboost\n",
    "ada_ens.fit(xtrain_ens, ytrain)\n",
    "\n",
    "# test accuracy on test\n",
    "ada_ens.score(xtest_ens, ytest)\n"
   ]
  },
  {
   "cell_type": "code",
   "execution_count": null,
   "metadata": {
    "collapsed": false
   },
   "outputs": [],
   "source": [
    "### Ensemble log reg classifier\n",
    "model_l2_ens = LogisticRegression(penalty = 'l1')\n",
    "model_l2_ens = model_l2_ens.fit(xtrain_ens, ytrain)\n",
    "\n",
    "# check the accuracy on the test set\n",
    "model_l2_ens.score(xtest_ens, ytest)"
   ]
  },
  {
   "cell_type": "code",
   "execution_count": null,
   "metadata": {
    "collapsed": true
   },
   "outputs": [],
   "source": []
  },
  {
   "cell_type": "code",
   "execution_count": null,
   "metadata": {
    "collapsed": true
   },
   "outputs": [],
   "source": [
    "##### random code chunks below this line #####"
   ]
  },
  {
   "cell_type": "code",
   "execution_count": null,
   "metadata": {
    "collapsed": true
   },
   "outputs": [],
   "source": [
    "###############################################"
   ]
  },
  {
   "cell_type": "code",
   "execution_count": null,
   "metadata": {
    "collapsed": false
   },
   "outputs": [],
   "source": [
    "# received error that test dataset does not have as many columns as training (3dummy columns missing)\n",
    "# this is to find out which ones\n",
    "mask = np.in1d(X.columns, Xtest.columns)\n",
    "print np.where(~mask)[0]\n",
    "\n"
   ]
  }
 ],
 "metadata": {
  "kernelspec": {
   "display_name": "Python 2",
   "language": "python",
   "name": "python2"
  },
  "language_info": {
   "codemirror_mode": {
    "name": "ipython",
    "version": 2
   },
   "file_extension": ".py",
   "mimetype": "text/x-python",
   "name": "python",
   "nbconvert_exporter": "python",
   "pygments_lexer": "ipython2",
   "version": "2.7.11"
  }
 },
 "nbformat": 4,
 "nbformat_minor": 0
}
